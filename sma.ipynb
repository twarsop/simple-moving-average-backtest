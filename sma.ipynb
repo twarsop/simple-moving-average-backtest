{
 "cells": [
  {
   "cell_type": "markdown",
   "metadata": {},
   "source": [
    "# Simple Moving Average Backtest"
   ]
  },
  {
   "cell_type": "markdown",
   "metadata": {},
   "source": [
    "Firstly, lets import all of the dependencies we need:"
   ]
  },
  {
   "cell_type": "code",
   "execution_count": 2,
   "metadata": {},
   "outputs": [],
   "source": [
    "import yfinance as yf"
   ]
  },
  {
   "cell_type": "markdown",
   "metadata": {},
   "source": [
    "## Variable Setup"
   ]
  },
  {
   "cell_type": "markdown",
   "metadata": {},
   "source": [
    "In the following set the variables up you would like to run the SMA backtest for (dates are of the format 'yyyy-mm-dd'):"
   ]
  },
  {
   "cell_type": "code",
   "execution_count": 3,
   "metadata": {},
   "outputs": [],
   "source": [
    "ticker_symbol = 'MSFT'\n",
    "start_date = '2020-11-01'\n",
    "end_date = '2020-11-30'"
   ]
  },
  {
   "cell_type": "markdown",
   "metadata": {},
   "source": [
    "## Get the Stock Price Data"
   ]
  },
  {
   "cell_type": "markdown",
   "metadata": {},
   "source": [
    "Get the data as defined by the previous and visualise:"
   ]
  },
  {
   "cell_type": "code",
   "execution_count": 5,
   "metadata": {},
   "outputs": [
    {
     "name": "stdout",
     "output_type": "stream",
     "text": [
      "                  Open        High         Low       Close    Volume  \\\n",
      "Date                                                                   \n",
      "2020-11-02  203.756540  204.743960  199.597430  201.801666  30842200   \n",
      "2020-11-03  203.357600  207.576550  202.589606  205.890961  27512000   \n",
      "2020-11-04  213.461145  217.749919  211.865317  215.824951  42311800   \n",
      "2020-11-05  221.460204  223.534774  220.572528  222.706940  36080100   \n",
      "2020-11-06  221.679624  223.774147  217.460674  223.135818  25231900   \n",
      "2020-11-09  223.853938  227.524321  217.311070  217.819733  44395000   \n",
      "2020-11-10  213.939892  215.934669  209.172375  210.459000  44045100   \n",
      "2020-11-11  211.835402  217.470642  211.645896  215.984543  29440800   \n",
      "2020-11-12  216.642824  218.537856  213.900005  214.877441  21593900   \n",
      "2020-11-13  215.795039  216.852269  213.600787  215.944641  18621100   \n",
      "2020-11-16  214.308927  217.171444  213.959850  216.662766  24953300   \n",
      "2020-11-17  215.535726  217.111587  213.520997  213.900009  24154100   \n",
      "2020-11-18  213.649994  215.169998  210.929993  211.080002  28372800   \n",
      "2020-11-19  211.380005  213.029999  209.929993  212.419998  24792700   \n",
      "2020-11-20  212.199997  213.289993  210.000000  210.389999  22829100   \n",
      "2020-11-23  210.949997  212.289993  208.160004  210.110001  25683500   \n",
      "2020-11-24  209.589996  214.250000  208.860001  213.860001  33979700   \n",
      "2020-11-25  215.110001  215.289993  212.460007  213.869995  21012900   \n",
      "2020-11-27  214.850006  216.270004  214.039993  215.229996  14512200   \n",
      "\n",
      "            Dividends  Stock Splits  \n",
      "Date                                 \n",
      "2020-11-02       0.00             0  \n",
      "2020-11-03       0.00             0  \n",
      "2020-11-04       0.00             0  \n",
      "2020-11-05       0.00             0  \n",
      "2020-11-06       0.00             0  \n",
      "2020-11-09       0.00             0  \n",
      "2020-11-10       0.00             0  \n",
      "2020-11-11       0.00             0  \n",
      "2020-11-12       0.00             0  \n",
      "2020-11-13       0.00             0  \n",
      "2020-11-16       0.00             0  \n",
      "2020-11-17       0.00             0  \n",
      "2020-11-18       0.56             0  \n",
      "2020-11-19       0.00             0  \n",
      "2020-11-20       0.00             0  \n",
      "2020-11-23       0.00             0  \n",
      "2020-11-24       0.00             0  \n",
      "2020-11-25       0.00             0  \n",
      "2020-11-27       0.00             0  \n"
     ]
    }
   ],
   "source": [
    "stock_price_data = yf.Ticker(\"MSFT\")\n",
    "hist = stock_price_data.history(start='2020-11-01', end='2020-11-30')\n",
    "print(hist)"
   ]
  },
  {
   "cell_type": "code",
   "execution_count": null,
   "metadata": {},
   "outputs": [],
   "source": []
  }
 ],
 "metadata": {
  "kernelspec": {
   "display_name": "Python 3",
   "language": "python",
   "name": "python3"
  },
  "language_info": {
   "codemirror_mode": {
    "name": "ipython",
    "version": 3
   },
   "file_extension": ".py",
   "mimetype": "text/x-python",
   "name": "python",
   "nbconvert_exporter": "python",
   "pygments_lexer": "ipython3",
   "version": "3.8.3"
  }
 },
 "nbformat": 4,
 "nbformat_minor": 4
}
